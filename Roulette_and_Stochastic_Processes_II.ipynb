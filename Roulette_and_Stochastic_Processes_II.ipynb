{
  "cells": [
    {
      "cell_type": "markdown",
      "metadata": {
        "id": "view-in-github",
        "colab_type": "text"
      },
      "source": [
        "<a href=\"https://colab.research.google.com/github/hallam-flda/gambling_market_analyses/blob/main/Roulette_and_Stochastic_Processes_II.ipynb\" target=\"_parent\"><img src=\"https://colab.research.google.com/assets/colab-badge.svg\" alt=\"Open In Colab\"/></a>"
      ]
    },
    {
      "cell_type": "markdown",
      "metadata": {
        "id": "WxlUl6rlLiFU"
      },
      "source": [
        "#**Budget Constraints and Casino Profitability - Stochastic Processes Theory II**\n",
        "\n"
      ]
    },
    {
      "cell_type": "markdown",
      "metadata": {
        "id": "iSeMUERgZFW0"
      },
      "source": [
        "## Introduction\n",
        "\n",
        "In the previous notebook, we looked at modelling the European Roulette wheel as a stochastic process and analysed some of the properties of the expected distribution of final player balances.\n",
        "\n",
        "Rather than depending on a few simulated outcomes, we can instead look to sample the underlying distributions that describe the data and draw on more Stochastic Process Theory to study how a stop-gap would affect the casino's profitability.\n"
      ]
    },
    {
      "cell_type": "markdown",
      "source": [
        "# Stopping Times\n",
        "\n",
        "## Mathematical Properties\n",
        "**Definition:** A stopping time $\\tau$ is a random variable that represents the time at which a particular condition within a stochastic process is satisfied. The key property of a stopping time is that the decision to stop can be made based only on the information available up to that time.\n",
        "\n",
        "**Formally:** $\\tau$ is a stopping time with respect to a filtration: $\\{{F}_t\\}$ if $\\{\\tau \\leq t\\} \\in F_t$ for all $t$\n",
        "\n",
        "**What is a filtration?**\n",
        "\n",
        "A filtration as denoted by $\\{F_{t}\\}$ is the set of all information up to time $t$. As time increases so does the amount of information stored in the filtration.\n",
        "\n",
        "#### **Example: Filtration in Roulette**\n",
        "\n",
        "- **$t = 0$**: You know the initial bankroll:  \n",
        "  $F_0 = \\{\\text{Bankroll: 1000}\\}$\n",
        "\n",
        "- **$t = 1$**: The first spin is red, you bet £10 and win:  \n",
        "  $F_1 = \\{\\text{Bankroll: 1010, First Spin: Red}\\}$\n",
        "\n",
        "- **$t = 2$**: The second spin is black, you bet £20 and lose:  \n",
        "  $F_2 = \\{\\text{Bankroll: 990, Spins: [Red, Black]}\\}$\n",
        "\n",
        "- **$t = 3$**: The third spin is red, you bet £30 and win:  \n",
        "  $F_3 = \\{\\text{Bankroll: 1020, Spins: [Red, Black, Red]}\\}$\n",
        "\n",
        "<br>\n",
        "\n",
        "As can be seen from the above, each iteration of $F_{t}$ contains all information from the previous set plus whatever happened at time $t$. That is to say:\n",
        "\n",
        "<br>\n",
        "\n",
        "$$ F_0 ⊆ F_1 \\subseteq F_2 ... ⊆ F_t $$\n"
      ],
      "metadata": {
        "id": "2I4njlvKcXxU"
      }
    },
    {
      "cell_type": "markdown",
      "source": [
        "## Practical Examples"
      ],
      "metadata": {
        "id": "Y21pUr-WekOD"
      }
    },
    {
      "cell_type": "markdown",
      "metadata": {
        "id": "nWobd34Byin0"
      },
      "source": [
        "\n",
        "\n",
        "### 1.1 Bankruptcy Colours Betting\n",
        "\n",
        "The obvious example we can use this theory for is the case in which the gambler loses all of their initial bankroll.\n",
        "\n",
        "We will start by setting the customer's balance at £100 or $X_0 = 100$, what we're looking to find is where $\\mathbb{E}[X_{t}] = 0$. We know that the absolute minimum time this could happen for £1 stakes would be 100 spins but winnings could greatly increase the time in which we expected to achieve a balane of zero. What we're looking for is the expected value of the stopping time,  $\\mathbb{E}[\\tau]$\n",
        "\n",
        "As we've seen before this can be written as a random walk like so:\n",
        "\n",
        "<br>\n",
        "\n",
        "$$ X_{t+1} =  \\begin{cases}\n",
        "X_{t} + b, & \\text{with probability } p \\\\\n",
        "X_{t} - b, & \\text{with probability } 1-p\n",
        "\\end{cases}\n",
        "$$\n",
        "\n",
        "where:\n",
        "\n",
        "<ul>\n",
        "<li>$p$ is the probability of success, in this case correctly identifying a number\n",
        "<li>$b$ is the bet size (and also the return size in the case of betting on colours)\n",
        "<li>$X_t$ is the gambler's balance at time $t$\n",
        "</ul>\n",
        "\n",
        "<br>\n",
        "\n",
        "**Expected Change Per Step (Drift)**\n",
        "\n",
        "The drift $ \\Delta $ is the expected change in the gambler's bankroll after one step:\n",
        "\n",
        "<br>\n",
        "\n",
        "$$ \\Delta = \\mathbb{E}[X_{t+1} - X_{t}] = b \\cdot p - b \\cdot (1 - p). = bp - b + bp $$\n",
        "\n",
        "<br>\n",
        "\n",
        "$$\n",
        "= 2bp - b = b(2p-1)\n",
        "$$\n",
        "\n",
        "<br>\n",
        "\n",
        "The formula for the expected number of steps before bankruptcy is given by\n",
        "\n",
        "<br>\n",
        "\n",
        "$$\n",
        "\\mathbb{E}[\\tau] = \\frac{X_0}{|b\\cdot(2p-1)|}\n",
        "$$\n",
        "\n",
        "<br>\n",
        "\n",
        "which for £1 stakes, a starting balance of £100 and a win probability of $\\frac{18}{37}$ gives us\n",
        "\n",
        "<br>\n",
        "\n",
        "$$\n",
        "\\mathbb{E}[\\tau] = \\frac{X_0}{b\\cdot(1-2p)} = \\frac{100}{1\\cdot\\left(1-2\\cdot\\left(\\frac{18}{37}\\right)\\right)} = \\frac{100}{0.027} \\approx 3703\n",
        "$$"
      ]
    },
    {
      "cell_type": "markdown",
      "source": [
        "\n",
        "\n",
        "### 1.2 Betting on Numbers\n",
        "\n",
        "In the previous example the outcomes of the random walk were the previous balance $\\pm 1$ because bettign on colours will return your stake plus an additional unit. In the example of betting on colours you receive your stake plus 35 additional units and therefore the process can be modelled as:\n",
        "\n",
        "<br>\n",
        "\n",
        "\n",
        "$$ X_{t+1} =  \\begin{cases}\n",
        "X_{t} + (R \\cdot b), & \\text{with probability } p \\\\\n",
        "X_{t} - b, & \\text{with probability } 1-p\n",
        "\\end{cases}\n",
        "$$\n",
        "\n",
        "where:\n",
        "\n",
        "<ul>\n",
        "<li>$p$ is the probability of success, in this case correctly identifying a colour\n",
        "<li>$b$ is the bet size\n",
        "<li>$R$ is the return multiplier\n",
        "<li>$X_t$ is the gambler's balance at time $t$\n",
        "</ul>\n",
        "\n",
        "<br>\n",
        "\n",
        "**Expected Change Per Step (Drift)**\n",
        "\n",
        "The drift $ \\Delta $ is the expected change in the gambler's bankroll after one step:\n",
        "\n",
        "<br>\n",
        "\n",
        "$$ \\Delta = \\mathbb{E}[X_{t+1} - X_{t}] = b \\cdot p \\cdot R  - b \\cdot (1 - p). = bpR - b + bp $$\n",
        "\n",
        "<br>\n",
        "\n",
        "$$\n",
        "= 2bp - b = b(2p-1)\n",
        "$$\n",
        "\n",
        "<br>\n",
        "\n",
        "The formula for the expected number of steps before bankruptcy is given by\n",
        "\n",
        "<br>\n",
        "\n",
        "$$\n",
        "\\mathbb{E}[\\tau] = \\frac{X_0}{|b\\cdot(R \\cdot p-1)|}\n",
        "$$\n",
        "\n",
        "<br>\n",
        "\n",
        "which for £1 stakes, a starting balance of £100 and a win probability of $\\frac{1}{37}$ and a payout multiplier of 36 gives us\n",
        "\n",
        "<br>\n",
        "\n",
        "$$\n",
        "\\mathbb{E}[\\tau] = \\frac{X_0}{|b\\cdot(R \\cdot p-1)|}  = \\frac{100}{|1\\cdot\\left(36 \\cdot \\left(\\frac{1}{37} -1\\right)\\right)|} = \\frac{100}{0.027} \\approx 3703\n",
        "$$\n",
        "\n",
        "<br>\n",
        "\n",
        "**Hold on** that's the same result that we had for betting on colours. This is perhaps to be expected since the individual expected result of each spin is the same and so the expected time to bankruptcy should also be the same. We know in practice customers are likely to be sensitive to big swings in balance so the *variance* of stopping times might be more important to analyse."
      ],
      "metadata": {
        "id": "IUzOfuWweoCm"
      }
    },
    {
      "cell_type": "code",
      "source": [
        "import numpy as np\n",
        "\n",
        "def expected_stopping_time(starting_balance, bet_size, return_multiplier, success_probability):\n",
        "  stopping_time = (starting_balance/(bet_size * (abs(return_multiplier*success_probability-1))))\n",
        "  return stopping_time\n",
        "\n"
      ],
      "metadata": {
        "id": "hFU7mnzDY1UP"
      },
      "execution_count": 2,
      "outputs": []
    },
    {
      "cell_type": "code",
      "source": [
        "colours_2 = expected_stopping_time(100,1,2,18/37)\n",
        "numbers_2 = expected_stopping_time(100,1,36,1/37)\n",
        "\n",
        "print(colours_2)\n",
        "print(numbers_2)"
      ],
      "metadata": {
        "colab": {
          "base_uri": "https://localhost:8080/"
        },
        "id": "25V2mlaegfMT",
        "outputId": "cdc33ced-cda3-45d4-f558-b20edecbe65b"
      },
      "execution_count": 3,
      "outputs": [
        {
          "output_type": "stream",
          "name": "stdout",
          "text": [
            "3700.0000000000073\n",
            "3700.0000000000073\n"
          ]
        }
      ]
    },
    {
      "cell_type": "markdown",
      "source": [
        "## Variance of Stopping Times\n",
        "\n",
        "I'm struggling to find a good source for the proof of the following formulas so I will have to take these results with a pinch of salt for now.\n",
        "\n",
        "Since I can't follow a proof, I will just provide the final solution for variance of $\\tau$\n",
        "\n",
        "<br>\n",
        "\n",
        "$$\n",
        "\\mathrm{Var}[\\tau] = \\frac{2 \\cdot X_0}{(q-p)^2} \\cdot \\left[1 - \\frac{1-\\left(\\frac{q}{p}\\right)^\\frac{X_0}{b}}{1-\\left(\\frac{q}{p}\\right)^\\frac{T}{b}}\\right]\n",
        "$$\n",
        "\n",
        "<br>\n",
        "\n",
        "where\n",
        "\n",
        "\n",
        "\n",
        "*   $p$: Probability of winning a single bet\n",
        "*   $q$: Probability of losing a single bet (can be written as $(1-p)$)\n",
        "*   $X_0$: The initial bankroll\n",
        "*   $T$: The target bankroll (stopping condition when reached)\n",
        "*   $b$: Bet size\n"
      ],
      "metadata": {
        "id": "2ElRKKcJWZhb"
      }
    },
    {
      "cell_type": "markdown",
      "source": [
        "# To Be Continued\n",
        "\n",
        "I'm not getting anywhere with the proof of variance, how it is derived and whether it is reliable so I'll move back to the simulation based approach."
      ],
      "metadata": {
        "id": "v96lesI3efS-"
      }
    },
    {
      "cell_type": "markdown",
      "source": [
        "### Python Implementation\n",
        "\n",
        "Writing a function for this formula will make it easier to test different games in roulette. I will adapt the one I wrote for expected to rerturn variance as well as standard deviation.\n",
        "\n"
      ],
      "metadata": {
        "id": "UIc8x85YbVgh"
      }
    },
    {
      "cell_type": "code",
      "source": [
        "def stopping_time_bankruptcy(starting_balance, bet_size, return_multiplier, success_probability):\n",
        "    p = success_probability\n",
        "    q = 1 - p  # Probability of losing\n",
        "    drift = q - p  # Drift (house edge)\n",
        "\n",
        "    print(f\"Probability of winning (p): {p}\")\n",
        "    print(f\"Probability of losing (q): {q}\")\n",
        "    print(f\"Drift (q - p): {drift}\")\n",
        "\n",
        "    if drift == 0:\n",
        "        raise ValueError(\"Drift (q - p) must be non-zero.\")\n",
        "\n",
        "    # Compute odds ratio\n",
        "    q_p_ratio = q / p\n",
        "    print(f\"Odds ratio (q/p): {q_p_ratio}\") #correct\n",
        "\n",
        "    # Exponential term for bankruptcy\n",
        "    term_X0 = q_p_ratio**(starting_balance / bet_size) #correct\n",
        "    print(f\"Exponential term (term_X0): {term_X0}\")\n",
        "\n",
        "    # Expected stopping time\n",
        "    expected_stopping_time = starting_balance / (bet_size * abs(return_multiplier * p - 1))\n",
        "    print(f\"Expected stopping time: {expected_stopping_time}\")\n",
        "\n",
        "    # Variance of stopping time\n",
        "    variance = (2 * starting_balance) / (drift**2) * (abs(1 - term_X0))\n",
        "    # Clamp to avoid negative values due to numerical precision\n",
        "    print(f\"Variance: {variance}\")\n",
        "\n",
        "    # Standard deviation\n",
        "    standard_deviation = np.sqrt(variance) if variance >= 0 else float(\"nan\")\n",
        "    print(f\"Standard deviation: {standard_deviation}\")\n",
        "\n",
        "    return {\n",
        "        \"expected_stopping_time\": expected_stopping_time,\n",
        "        \"variance\": variance,\n",
        "        \"standard_deviation\": standard_deviation\n",
        "    }\n",
        "\n",
        "# Example usage\n",
        "stats = stopping_time_bankruptcy(\n",
        "    starting_balance=10,\n",
        "    bet_size=1,\n",
        "    return_multiplier=2,\n",
        "    success_probability=1 / 300\n",
        ")\n"
      ],
      "metadata": {
        "colab": {
          "base_uri": "https://localhost:8080/"
        },
        "id": "uJfiRnt4clIp",
        "outputId": "1fdb1213-df33-43f4-933c-dc00887a6dca"
      },
      "execution_count": 13,
      "outputs": [
        {
          "output_type": "stream",
          "name": "stdout",
          "text": [
            "Probability of winning (p): 0.0033333333333333335\n",
            "Probability of losing (q): 0.9966666666666667\n",
            "Drift (q - p): 0.9933333333333334\n",
            "Odds ratio (q/p): 299.0\n",
            "Exponential term (term_X0): 5.710996358479338e+24\n",
            "Expected stopping time: 10.067114093959733\n",
            "Variance: 1.157582253644296e+26\n",
            "Standard deviation: 10759099653987.299\n"
          ]
        }
      ]
    },
    {
      "cell_type": "code",
      "source": [
        "# Example usage\n",
        "stats_2 = stopping_time_bankruptcy(\n",
        "    starting_balance=10,\n",
        "    bet_size=1,\n",
        "    return_multiplier=36,\n",
        "    success_probability=1 / 37\n",
        ")\n",
        "\n",
        "stats_2"
      ],
      "metadata": {
        "colab": {
          "base_uri": "https://localhost:8080/"
        },
        "id": "9HPMK9flemhF",
        "outputId": "8a31c6d4-9a78-465c-d1fd-b1b59e238b6d"
      },
      "execution_count": 11,
      "outputs": [
        {
          "output_type": "stream",
          "name": "stdout",
          "text": [
            "Probability of winning (p): 0.02702702702702703\n",
            "Probability of losing (q): 0.972972972972973\n",
            "Drift (q - p): 0.945945945945946\n",
            "Odds ratio (q/p): 36.0\n",
            "Exponential term (term_X0): 3656158440062976.0\n",
            "Expected stopping time: 370.00000000000074\n",
            "Variance: 8.17188719093259e+16\n",
            "Standard deviation: 285865128.8795573\n"
          ]
        },
        {
          "output_type": "execute_result",
          "data": {
            "text/plain": [
              "{'expected_stopping_time': 370.00000000000074,\n",
              " 'variance': 8.17188719093259e+16,\n",
              " 'standard_deviation': 285865128.8795573}"
            ]
          },
          "metadata": {},
          "execution_count": 11
        }
      ]
    },
    {
      "cell_type": "code",
      "source": [
        "import numpy as np\n",
        "\n",
        "def variance_stopping_time_corrected(starting_balance, bet_size, success_probability):\n",
        "    \"\"\"\n",
        "    Compute the variance of stopping time for the gambler's ruin problem when only bankruptcy is considered.\n",
        "\n",
        "    Parameters:\n",
        "    starting_balance (float): Initial bankroll.\n",
        "    bet_size (float): Amount wagered per bet.\n",
        "    success_probability (float): Probability of winning a bet.\n",
        "\n",
        "    Returns:\n",
        "    float: Corrected variance of stopping time.\n",
        "    \"\"\"\n",
        "    p = success_probability\n",
        "    q = 1 - p  # Probability of losing\n",
        "    drift = q - p  # Drift (house edge)\n",
        "\n",
        "    if drift == 0:\n",
        "        raise ValueError(\"Drift (q - p) must be non-zero.\")\n",
        "\n",
        "    # Compute odds ratio\n",
        "    q_p_ratio = q / p\n",
        "\n",
        "    # Exponential term for bankruptcy\n",
        "    term_X0 = q_p_ratio**(starting_balance / bet_size)\n",
        "\n",
        "    # Variance formula with adjustment\n",
        "    raw_variance = (2 * starting_balance) / (drift**2) * (1 - term_X0)\n",
        "    clamped_variance = min(raw_variance, 10 * (starting_balance / (bet_size * abs(drift)))**2)\n",
        "    return clamped_variance\n",
        "\n",
        "# Example usage\n",
        "corrected_variance = variance_stopping_time_corrected(\n",
        "    starting_balance=10,\n",
        "    bet_size=1,\n",
        "    success_probability=1 / 300\n",
        ")\n",
        "\n",
        "corrected_variance\n"
      ],
      "metadata": {
        "colab": {
          "base_uri": "https://localhost:8080/"
        },
        "id": "aVcwD9LDcr3n",
        "outputId": "8db9f80d-75ab-4409-a8b7-750463da7b09"
      },
      "execution_count": 14,
      "outputs": [
        {
          "output_type": "execute_result",
          "data": {
            "text/plain": [
              "-1.157582253644296e+26"
            ]
          },
          "metadata": {},
          "execution_count": 14
        }
      ]
    },
    {
      "cell_type": "code",
      "source": [
        "import numpy as np\n",
        "\n",
        "def generating_function(stopping_time_s, starting_balance, target_balance, bet_size, success_probability):\n",
        "    \"\"\"\n",
        "    Compute the generating function G(s) for stopping times in a random walk with absorbing barriers.\n",
        "\n",
        "    Parameters:\n",
        "    stopping_time_s (float): The generating function parameter (0 < s <= 1).\n",
        "    starting_balance (float): Initial bankroll.\n",
        "    target_balance (float): Target bankroll.\n",
        "    bet_size (float): Amount wagered per bet.\n",
        "    success_probability (float): Probability of winning a bet.\n",
        "\n",
        "    Returns:\n",
        "    float: G(s), the generating function evaluated at s.\n",
        "    \"\"\"\n",
        "    p = success_probability\n",
        "    q = 1 - p  # Probability of losing\n",
        "\n",
        "    def r(s):\n",
        "        \"\"\"Compute r(s) for the generating function.\"\"\"\n",
        "        return s - 1 + np.sqrt(1 - s**2)\n",
        "\n",
        "    # Compute G(s) for the boundaries\n",
        "    r_s = r(stopping_time_s)\n",
        "    a = starting_balance\n",
        "    b = target_balance - starting_balance\n",
        "\n",
        "    # G(s) formula\n",
        "    G_s = (r_s * a + r_s * b) / (1 + r_s * (a + b))\n",
        "    return G_s\n",
        "\n",
        "def mean_variance_stopping_time(starting_balance, target_balance, bet_size, success_probability):\n",
        "    \"\"\"\n",
        "    Compute the mean and variance of the stopping time using the generating function.\n",
        "\n",
        "    Parameters:\n",
        "    starting_balance (float): Initial bankroll.\n",
        "    target_balance (float): Target bankroll.\n",
        "    bet_size (float): Amount wagered per bet.\n",
        "    success_probability (float): Probability of winning a bet.\n",
        "\n",
        "    Returns:\n",
        "    dict: A dictionary containing the mean and variance of the stopping time.\n",
        "    \"\"\"\n",
        "    # Numerically compute derivatives of G(s) at s = 1\n",
        "    s = 1.0\n",
        "    delta = 1e-6  # Small increment for numerical differentiation\n",
        "\n",
        "    G_1 = generating_function(s, starting_balance, target_balance, bet_size, success_probability)\n",
        "    G_prime = (generating_function(s - delta, starting_balance, target_balance, bet_size, success_probability) -\n",
        "               G_1) / -delta\n",
        "    G_double_prime = (generating_function(s - delta, starting_balance, target_balance, bet_size, success_probability) -\n",
        "                      2 * G_1 +\n",
        "                      generating_function(s - 2 * delta, starting_balance, target_balance, bet_size, success_probability)) / delta**2\n",
        "\n",
        "    # Compute mean and variance\n",
        "    mean = G_prime\n",
        "    variance = G_double_prime - G_prime**2\n",
        "\n",
        "    return {\n",
        "        \"mean\": mean,\n",
        "        \"variance\": variance\n",
        "    }\n",
        "\n",
        "# Example usage\n",
        "stats = mean_variance_stopping_time(\n",
        "    starting_balance=10,\n",
        "    target_balance=0,\n",
        "    bet_size=1,\n",
        "    success_probability=18 / 37\n",
        ")\n",
        "stats\n"
      ],
      "metadata": {
        "colab": {
          "base_uri": "https://localhost:8080/"
        },
        "id": "mauPT6zJshm-",
        "outputId": "cd6b9310-d5f5-42eb-ed42-f40ea9db0a2b"
      },
      "execution_count": 16,
      "outputs": [
        {
          "output_type": "execute_result",
          "data": {
            "text/plain": [
              "{'mean': -0.0, 'variance': 0.0}"
            ]
          },
          "metadata": {},
          "execution_count": 16
        }
      ]
    }
  ],
  "metadata": {
    "colab": {
      "toc_visible": true,
      "provenance": [],
      "authorship_tag": "ABX9TyPsdDOOGkBMrkOT+2vvJ8Uk",
      "include_colab_link": true
    },
    "kernelspec": {
      "display_name": "Python 3",
      "name": "python3"
    },
    "language_info": {
      "name": "python"
    }
  },
  "nbformat": 4,
  "nbformat_minor": 0
}